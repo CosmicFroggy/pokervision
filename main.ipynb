{
 "cells": [
  {
   "cell_type": "code",
   "execution_count": 2,
   "id": "91f8777c",
   "metadata": {},
   "outputs": [],
   "source": [
    "import cv2\n",
    "import kagglehub\n",
    "from ultralytics import YOLO\n",
    "import os"
   ]
  },
  {
   "cell_type": "code",
   "execution_count": 3,
   "id": "307e9507",
   "metadata": {},
   "outputs": [
    {
     "data": {
      "text/plain": [
       "['data.yaml',\n",
       " 'kaggle_data.yaml',\n",
       " 'README.roboflow.txt',\n",
       " 'test',\n",
       " 'train',\n",
       " 'valid']"
      ]
     },
     "execution_count": 3,
     "metadata": {},
     "output_type": "execute_result"
    }
   ],
   "source": [
    "# download playing card dataset using kagglehub\n",
    "data_path = kagglehub.dataset_download(\"andy8744/playing-cards-object-detection-dataset\")\n",
    "os.listdir(data_path)"
   ]
  },
  {
   "cell_type": "code",
   "execution_count": 4,
   "id": "299a31e1",
   "metadata": {},
   "outputs": [
    {
     "name": "stdout",
     "output_type": "stream",
     "text": [
      "Ultralytics 8.3.111  Python-3.13.3 torch-2.6.0+cu126 CUDA:0 (NVIDIA GeForce RTX 3070 Ti, 8192MiB)\n",
      "\u001b[34m\u001b[1mengine\\trainer: \u001b[0mtask=detect, mode=train, model=yolo11n.yaml, data=C:\\Users\\Mark\\.cache\\kagglehub\\datasets\\andy8744\\playing-cards-object-detection-dataset\\versions\\4/data.yaml, epochs=3, time=None, patience=100, batch=16, imgsz=640, save=True, save_period=-1, cache=False, device=None, workers=8, project=None, name=train2, exist_ok=False, pretrained=True, optimizer=auto, verbose=True, seed=0, deterministic=True, single_cls=False, rect=False, cos_lr=False, close_mosaic=10, resume=False, amp=True, fraction=1.0, profile=False, freeze=None, multi_scale=False, overlap_mask=True, mask_ratio=4, dropout=0.0, val=True, split=val, save_json=False, conf=None, iou=0.7, max_det=300, half=False, dnn=False, plots=True, source=None, vid_stride=1, stream_buffer=False, visualize=False, augment=False, agnostic_nms=False, classes=None, retina_masks=False, embed=None, show=False, save_frames=False, save_txt=False, save_conf=False, save_crop=False, show_labels=True, show_conf=True, show_boxes=True, line_width=None, format=torchscript, keras=False, optimize=False, int8=False, dynamic=False, simplify=True, opset=None, workspace=None, nms=False, lr0=0.01, lrf=0.01, momentum=0.937, weight_decay=0.0005, warmup_epochs=3.0, warmup_momentum=0.8, warmup_bias_lr=0.1, box=7.5, cls=0.5, dfl=1.5, pose=12.0, kobj=1.0, nbs=64, hsv_h=0.015, hsv_s=0.7, hsv_v=0.4, degrees=0.0, translate=0.1, scale=0.5, shear=0.0, perspective=0.0, flipud=0.0, fliplr=0.5, bgr=0.0, mosaic=1.0, mixup=0.0, copy_paste=0.0, copy_paste_mode=flip, auto_augment=randaugment, erasing=0.4, cfg=None, tracker=botsort.yaml, save_dir=runs\\detect\\train2\n",
      "Overriding model.yaml nc=80 with nc=52\n",
      "\n",
      "                   from  n    params  module                                       arguments                     \n",
      "  0                  -1  1       464  ultralytics.nn.modules.conv.Conv             [3, 16, 3, 2]                 \n",
      "  1                  -1  1      4672  ultralytics.nn.modules.conv.Conv             [16, 32, 3, 2]                \n",
      "  2                  -1  1      6640  ultralytics.nn.modules.block.C3k2            [32, 64, 1, False, 0.25]      \n",
      "  3                  -1  1     36992  ultralytics.nn.modules.conv.Conv             [64, 64, 3, 2]                \n",
      "  4                  -1  1     26080  ultralytics.nn.modules.block.C3k2            [64, 128, 1, False, 0.25]     \n",
      "  5                  -1  1    147712  ultralytics.nn.modules.conv.Conv             [128, 128, 3, 2]              \n",
      "  6                  -1  1     87040  ultralytics.nn.modules.block.C3k2            [128, 128, 1, True]           \n",
      "  7                  -1  1    295424  ultralytics.nn.modules.conv.Conv             [128, 256, 3, 2]              \n",
      "  8                  -1  1    346112  ultralytics.nn.modules.block.C3k2            [256, 256, 1, True]           \n",
      "  9                  -1  1    164608  ultralytics.nn.modules.block.SPPF            [256, 256, 5]                 \n",
      " 10                  -1  1    249728  ultralytics.nn.modules.block.C2PSA           [256, 256, 1]                 \n",
      " 11                  -1  1         0  torch.nn.modules.upsampling.Upsample         [None, 2, 'nearest']          \n",
      " 12             [-1, 6]  1         0  ultralytics.nn.modules.conv.Concat           [1]                           \n",
      " 13                  -1  1    111296  ultralytics.nn.modules.block.C3k2            [384, 128, 1, False]          \n",
      " 14                  -1  1         0  torch.nn.modules.upsampling.Upsample         [None, 2, 'nearest']          \n",
      " 15             [-1, 4]  1         0  ultralytics.nn.modules.conv.Concat           [1]                           \n",
      " 16                  -1  1     32096  ultralytics.nn.modules.block.C3k2            [256, 64, 1, False]           \n",
      " 17                  -1  1     36992  ultralytics.nn.modules.conv.Conv             [64, 64, 3, 2]                \n",
      " 18            [-1, 13]  1         0  ultralytics.nn.modules.conv.Concat           [1]                           \n",
      " 19                  -1  1     86720  ultralytics.nn.modules.block.C3k2            [192, 128, 1, False]          \n",
      " 20                  -1  1    147712  ultralytics.nn.modules.conv.Conv             [128, 128, 3, 2]              \n",
      " 21            [-1, 10]  1         0  ultralytics.nn.modules.conv.Concat           [1]                           \n",
      " 22                  -1  1    378880  ultralytics.nn.modules.block.C3k2            [384, 256, 1, True]           \n",
      " 23        [16, 19, 22]  1    440812  ultralytics.nn.modules.head.Detect           [52, [64, 128, 256]]          \n",
      "YOLO11n summary: 181 layers, 2,599,980 parameters, 2,599,964 gradients, 6.5 GFLOPs\n",
      "\n",
      "Freezing layer 'model.23.dfl.conv.weight'\n",
      "\u001b[34m\u001b[1mAMP: \u001b[0mrunning Automatic Mixed Precision (AMP) checks...\n",
      "\u001b[34m\u001b[1mAMP: \u001b[0mchecks passed \n",
      "\u001b[34m\u001b[1mtrain: \u001b[0mFast image access  (ping: 0.10.0 ms, read: 600.7243.8 MB/s, size: 34.3 KB)\n"
     ]
    },
    {
     "name": "stderr",
     "output_type": "stream",
     "text": [
      "\u001b[34m\u001b[1mtrain: \u001b[0mScanning C:\\Users\\Mark\\.cache\\kagglehub\\datasets\\andy8744\\playing-cards-object-detection-dataset\\versions\\4\\train\\labels.cache... 14000 images, 0 backgrounds, 0 corrupt: 100%|██████████| 14000/14000 [00:00<?, ?it/s]\n"
     ]
    },
    {
     "name": "stdout",
     "output_type": "stream",
     "text": [
      "\u001b[34m\u001b[1mval: \u001b[0mFast image access  (ping: 0.10.1 ms, read: 163.235.1 MB/s, size: 27.9 KB)\n"
     ]
    },
    {
     "name": "stderr",
     "output_type": "stream",
     "text": [
      "\u001b[34m\u001b[1mval: \u001b[0mScanning C:\\Users\\Mark\\.cache\\kagglehub\\datasets\\andy8744\\playing-cards-object-detection-dataset\\versions\\4\\valid\\labels.cache... 4000 images, 0 backgrounds, 0 corrupt: 100%|██████████| 4000/4000 [00:00<?, ?it/s]\n"
     ]
    },
    {
     "name": "stdout",
     "output_type": "stream",
     "text": [
      "Plotting labels to runs\\detect\\train2\\labels.jpg... \n",
      "\u001b[34m\u001b[1moptimizer:\u001b[0m 'optimizer=auto' found, ignoring 'lr0=0.01' and 'momentum=0.937' and determining best 'optimizer', 'lr0' and 'momentum' automatically... \n",
      "\u001b[34m\u001b[1moptimizer:\u001b[0m AdamW(lr=0.000179, momentum=0.9) with parameter groups 81 weight(decay=0.0), 88 weight(decay=0.0005), 87 bias(decay=0.0)\n",
      "Image sizes 640 train, 640 val\n",
      "Using 8 dataloader workers\n",
      "Logging results to \u001b[1mruns\\detect\\train2\u001b[0m\n",
      "Starting training for 3 epochs...\n",
      "\n",
      "      Epoch    GPU_mem   box_loss   cls_loss   dfl_loss  Instances       Size\n"
     ]
    },
    {
     "name": "stderr",
     "output_type": "stream",
     "text": [
      "        1/3      2.36G      4.713      7.708      3.313         89        640: 100%|██████████| 875/875 [01:28<00:00,  9.93it/s]\n",
      "                 Class     Images  Instances      Box(P          R      mAP50  mAP50-95): 100%|██████████| 125/125 [00:14<00:00,  8.76it/s]\n"
     ]
    },
    {
     "name": "stdout",
     "output_type": "stream",
     "text": [
      "                   all       4000      15159    0.00186      0.115    0.00126   0.000331\n",
      "\n",
      "      Epoch    GPU_mem   box_loss   cls_loss   dfl_loss  Instances       Size\n"
     ]
    },
    {
     "name": "stderr",
     "output_type": "stream",
     "text": [
      "        2/3      2.98G      2.745      5.136      2.048         99        640: 100%|██████████| 875/875 [01:24<00:00, 10.39it/s]\n",
      "                 Class     Images  Instances      Box(P          R      mAP50  mAP50-95): 100%|██████████| 125/125 [00:15<00:00,  7.93it/s]\n"
     ]
    },
    {
     "name": "stdout",
     "output_type": "stream",
     "text": [
      "                   all       4000      15159    0.00696      0.543    0.00811    0.00381\n",
      "\n",
      "      Epoch    GPU_mem   box_loss   cls_loss   dfl_loss  Instances       Size\n"
     ]
    },
    {
     "name": "stderr",
     "output_type": "stream",
     "text": [
      "        3/3      2.99G      2.082      4.293      1.608         68        640: 100%|██████████| 875/875 [01:21<00:00, 10.67it/s]\n",
      "                 Class     Images  Instances      Box(P          R      mAP50  mAP50-95): 100%|██████████| 125/125 [00:16<00:00,  7.41it/s]\n"
     ]
    },
    {
     "name": "stdout",
     "output_type": "stream",
     "text": [
      "                   all       4000      15159    0.00966      0.764     0.0129    0.00782\n",
      "\n",
      "3 epochs completed in 0.084 hours.\n",
      "Optimizer stripped from runs\\detect\\train2\\weights\\last.pt, 5.5MB\n",
      "Optimizer stripped from runs\\detect\\train2\\weights\\best.pt, 5.5MB\n",
      "\n",
      "Validating runs\\detect\\train2\\weights\\best.pt...\n",
      "Ultralytics 8.3.111  Python-3.13.3 torch-2.6.0+cu126 CUDA:0 (NVIDIA GeForce RTX 3070 Ti, 8192MiB)\n",
      "YOLO11n summary (fused): 100 layers, 2,592,292 parameters, 0 gradients, 6.4 GFLOPs\n"
     ]
    },
    {
     "name": "stderr",
     "output_type": "stream",
     "text": [
      "                 Class     Images  Instances      Box(P          R      mAP50  mAP50-95): 100%|██████████| 125/125 [00:16<00:00,  7.78it/s]\n"
     ]
    },
    {
     "name": "stdout",
     "output_type": "stream",
     "text": [
      "                   all       4000      15159    0.00967      0.764     0.0129    0.00782\n",
      "                   10c        180        282    0.00965      0.798     0.0148    0.00812\n",
      "                   10d        188        290     0.0106      0.803     0.0135    0.00869\n",
      "                   10h        201        322     0.0117      0.776      0.017     0.0104\n",
      "                   10s        165        250    0.00784      0.948     0.0129    0.00747\n",
      "                    2c        193        295    0.00933      0.851     0.0105    0.00561\n",
      "                    2d        167        259    0.00814      0.865     0.0107    0.00654\n",
      "                    2h        187        294    0.00897       0.68    0.00843    0.00516\n",
      "                    2s        192        299    0.00944      0.692     0.0097    0.00566\n",
      "                    3c        201        308    0.00893      0.782    0.00873    0.00565\n",
      "                    3d        167        250    0.00757      0.892    0.00896    0.00577\n",
      "                    3h        200        313    0.00956      0.927     0.0131    0.00843\n",
      "                    3s        229        358      0.011      0.791     0.0122    0.00756\n",
      "                    4c        178        276    0.00791      0.717    0.00732    0.00393\n",
      "                    4d        183        282     0.0124      0.837     0.0176     0.0104\n",
      "                    4h        199        312     0.0112      0.913     0.0278     0.0169\n",
      "                    4s        198        295    0.00908      0.766    0.00939     0.0058\n",
      "                    5c        182        290    0.00968      0.797     0.0113    0.00647\n",
      "                    5d        178        283     0.0103       0.88     0.0149    0.00943\n",
      "                    5h        168        253       0.01      0.866     0.0184     0.0115\n",
      "                    5s        194        281    0.00974      0.865     0.0156    0.00987\n",
      "                    6c        183        284    0.00967      0.736    0.00904    0.00546\n",
      "                    6d        185        286     0.0114      0.783     0.0125    0.00813\n",
      "                    6h        210        329     0.0123      0.772     0.0198     0.0121\n",
      "                    6s        185        289     0.0103      0.896     0.0139     0.0087\n",
      "                    7c        196        304    0.00686      0.516    0.00524    0.00297\n",
      "                    7d        192        311    0.00855      0.469    0.00721    0.00435\n",
      "                    7h        201        303    0.00836      0.525    0.00667    0.00411\n",
      "                    7s        195        304    0.00714      0.401    0.00503    0.00287\n",
      "                    8c        184        285    0.00946      0.835     0.0113    0.00654\n",
      "                    8d        170        261    0.00779      0.962     0.0195     0.0133\n",
      "                    8h        173        255    0.00837       0.91     0.0193     0.0114\n",
      "                    8s        218        339      0.012       0.87     0.0182     0.0118\n",
      "                    9c        199        309     0.0101      0.767    0.00979    0.00608\n",
      "                    9d        183        275    0.00994      0.895     0.0205      0.013\n",
      "                    9h        178        272     0.0106      0.882     0.0145     0.0091\n",
      "                    9s        176        263      0.008      0.894     0.0102    0.00632\n",
      "                    Ac        185        288    0.00912       0.75    0.00886    0.00487\n",
      "                    Ad        192        294     0.0107      0.922     0.0209     0.0133\n",
      "                    Ah        192        283     0.0105      0.781     0.0145    0.00924\n",
      "                    As        213        322    0.00963      0.693    0.00995    0.00579\n",
      "                    Jc        178        265    0.00902      0.442    0.00651    0.00369\n",
      "                    Jd        181        285    0.00573      0.256    0.00379    0.00235\n",
      "                    Jh        183        278    0.00899       0.59    0.00772    0.00422\n",
      "                    Js        188        282    0.00949      0.833     0.0117    0.00607\n",
      "                    Kc        196        307     0.0123      0.844     0.0186     0.0104\n",
      "                    Kd        186        304     0.0122      0.888     0.0289     0.0181\n",
      "                    Kh        192        297     0.0114      0.774     0.0182     0.0112\n",
      "                    Ks        166        264     0.0082      0.758     0.0102    0.00633\n",
      "                    Qc        202        300     0.0088      0.653    0.00811    0.00464\n",
      "                    Qd        202        317     0.0108      0.669      0.014    0.00643\n",
      "                    Qh        189        295     0.0109      0.695     0.0149    0.00861\n",
      "                    Qs        205        317     0.0109      0.644     0.0105    0.00593\n",
      "Speed: 0.1ms preprocess, 1.1ms inference, 0.0ms loss, 1.1ms postprocess per image\n",
      "Results saved to \u001b[1mruns\\detect\\train2\u001b[0m\n"
     ]
    }
   ],
   "source": [
    "# create and train YOLO model for playing card detection\n",
    "model = YOLO(\"yolo11n.yaml\")\n",
    "results = model.train(data=data_path+\"/data.yaml\", epochs=3)"
   ]
  },
  {
   "cell_type": "code",
   "execution_count": 3,
   "id": "a19914aa",
   "metadata": {},
   "outputs": [],
   "source": [
    "# read a frame from the webcam to get image of cards\n",
    "cam = cv2.VideoCapture(0)\n",
    "_, frame = cam.read()\n",
    "cam.release()"
   ]
  },
  {
   "cell_type": "code",
   "execution_count": 4,
   "id": "a9f45f21",
   "metadata": {},
   "outputs": [],
   "source": [
    "# show the image\n",
    "cv2.imshow(\"pokervision\", frame)\n",
    "\n",
    "# close the window on any keypress\n",
    "if cv2.waitKey(0) != -1:\n",
    "\tcv2.destroyAllWindows()"
   ]
  },
  {
   "cell_type": "code",
   "execution_count": null,
   "id": "91e88039",
   "metadata": {},
   "outputs": [],
   "source": []
  }
 ],
 "metadata": {
  "kernelspec": {
   "display_name": "Python 3",
   "language": "python",
   "name": "python3"
  },
  "language_info": {
   "codemirror_mode": {
    "name": "ipython",
    "version": 3
   },
   "file_extension": ".py",
   "mimetype": "text/x-python",
   "name": "python",
   "nbconvert_exporter": "python",
   "pygments_lexer": "ipython3",
   "version": "3.13.3"
  }
 },
 "nbformat": 4,
 "nbformat_minor": 5
}
