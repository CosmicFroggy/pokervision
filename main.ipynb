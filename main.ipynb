{
 "cells": [
  {
   "cell_type": "code",
   "execution_count": 18,
   "id": "91f8777c",
   "metadata": {},
   "outputs": [],
   "source": [
    "import cv2\n",
    "import kagglehub\n",
    "from ultralytics import YOLO\n",
    "import os\n",
    "import yaml"
   ]
  },
  {
   "cell_type": "code",
   "execution_count": 19,
   "id": "307e9507",
   "metadata": {},
   "outputs": [
    {
     "name": "stdout",
     "output_type": "stream",
     "text": [
      "C:\\Users\\Mark\\.cache\\kagglehub\\datasets\\andy8744\\playing-cards-object-detection-dataset\\versions\\4\n"
     ]
    },
    {
     "data": {
      "text/plain": [
       "['data.yaml',\n",
       " 'kaggle_data.yaml',\n",
       " 'README.roboflow.txt',\n",
       " 'test',\n",
       " 'train',\n",
       " 'valid']"
      ]
     },
     "execution_count": 19,
     "metadata": {},
     "output_type": "execute_result"
    }
   ],
   "source": [
    "# download playing card dataset using kagglehub\n",
    "data_path = kagglehub.dataset_download(\"andy8744/playing-cards-object-detection-dataset\")\n",
    "print(data_path)\n",
    "os.listdir(data_path)"
   ]
  },
  {
   "cell_type": "code",
   "execution_count": 20,
   "id": "82370f47",
   "metadata": {},
   "outputs": [
    {
     "name": "stdout",
     "output_type": "stream",
     "text": [
      "['10c', '10d', '10h', '10s', '2c', '2d', '2h', '2s', '3c', '3d', '3h', '3s', '4c', '4d', '4h', '4s', '5c', '5d', '5h', '5s', '6c', '6d', '6h', '6s', '7c', '7d', '7h', '7s', '8c', '8d', '8h', '8s', '9c', '9d', '9h', '9s', 'Ac', 'Ad', 'Ah', 'As', 'Jc', 'Jd', 'Jh', 'Js', 'Kc', 'Kd', 'Kh', 'Ks', 'Qc', 'Qd', 'Qh', 'Qs']\n"
     ]
    }
   ],
   "source": [
    "# get dataset labels\n",
    "with open(data_path + \"/data.yaml\", \"r\") as file:\n",
    "\tdata = yaml.safe_load(file)\n",
    "\n",
    "labels = data[\"names\"]\n",
    "print(labels)"
   ]
  },
  {
   "cell_type": "code",
   "execution_count": 25,
   "id": "a63d2fde",
   "metadata": {},
   "outputs": [],
   "source": [
    "# create model using previously trained weights\n",
    "model = YOLO(\"CardDetector.pt\")"
   ]
  },
  {
   "cell_type": "code",
   "execution_count": 22,
   "id": "a19914aa",
   "metadata": {},
   "outputs": [],
   "source": [
    "# read a frame from the webcam to get image of cards\n",
    "cam = cv2.VideoCapture(0)\n",
    "_, frame = cam.read()\n",
    "cam.release()"
   ]
  },
  {
   "cell_type": "code",
   "execution_count": 31,
   "id": "ce3b7f75",
   "metadata": {},
   "outputs": [],
   "source": [
    "# class for storing card information, could make cards persistent between\n",
    "# frames later\n",
    "class CardPrediction:\n",
    "\tdef __init__(self, position, left, right, top, bottom, class_id, suit_rank, confidence):\n",
    "\t\tself.position = position\n",
    "\t\tself.left = left\n",
    "\t\tself.right = right\n",
    "\t\tself.top = top\n",
    "\t\tself.bottom = bottom\n",
    "\t\tself.class_id = class_id\n",
    "\t\tself.suit_rank = suit_rank\n",
    "\t\tself.confidence = confidence\n",
    "\n",
    "\tdef draw(self, frame):\n",
    "\t\tcv2.rectangle(frame, \n",
    "\t\t\t\t \t  (self.left, self.top),\n",
    "\t\t\t\t\t  (self.right, self.bottom), \n",
    "\t\t\t\t\t  (0, 255, 0), \n",
    "\t\t\t\t\t  1)\n",
    "\t\tcv2.circle(frame,\n",
    "\t\t\t\t   self.position,\n",
    "\t\t\t\t   3,\n",
    "\t\t\t\t   (0, 255, 0),\n",
    "\t\t\t\t   -1)\n",
    "\t\tcv2.putText(frame, \n",
    "\t\t\t\t\tf\"{self.suit_rank}: {self.confidence:.2f}\", \n",
    "\t\t\t\t\t(self.left, self.top - 10), \n",
    "\t\t\t\t\tcv2.FONT_HERSHEY_SIMPLEX, \n",
    "\t\t\t\t\t0.5, \n",
    "\t\t\t\t\t(0, 255, 0), \n",
    "\t\t\t\t\t1, \n",
    "\t\t\t\t\tcv2.LINE_AA)"
   ]
  },
  {
   "cell_type": "code",
   "execution_count": null,
   "id": "91e88039",
   "metadata": {},
   "outputs": [],
   "source": [
    "# analyse in real-time \n",
    "\n",
    "cam = cv2.VideoCapture(0)\n",
    "cam.set(cv2.CAP_PROP_AUTOFOCUS, 255)\n",
    "#cam.set(cv2.CAP_PROP_FOCUS, 100)\n",
    "cam.set(cv2.CAP_PROP_BRIGHTNESS, 50)\n",
    "\n",
    "while True:\n",
    "\t# get new frame\n",
    "\t_, frame = cam.read() \n",
    "\n",
    "\t# detect cards\n",
    "\tcards = []\n",
    "\tprediction = next(model.track(frame, stream=True, verbose=False, persist=True))\n",
    "\tif prediction.boxes.id != None:\n",
    "\t\tfor i, box_id in enumerate(prediction.boxes.id):\n",
    "\t\t\t# get attributes of identified card\n",
    "\t\t\tx1, y1, x2, y2 = prediction.boxes.xyxy[i]\n",
    "\t\t\tx1, y1, x2, y2 = int(x1), int(y1), int(x2), int(y2)\n",
    "\t\t\tcx, cy, _, _ = prediction.boxes.xywh[i]\n",
    "\t\t\tcx, cy = int(cx), int(cy)\n",
    "\t\t\tclass_id = int(prediction.boxes.cls[i])\n",
    "\t\t\tconf = prediction.boxes.conf[i]\n",
    "\n",
    "\t\t\t# create new prediction object and add to list\n",
    "\t\t\tcards.append(CardPrediction((cx, cy), x1, x2, y1, y2, class_id, labels[class_id], conf))\n",
    "\n",
    "\t# draw the card annotations\n",
    "\tfor card in cards:\n",
    "\t\tcard.draw(frame)\t\t\n",
    "\n",
    "\t# show the image\n",
    "\tcv2.imshow(\"pokervision\", frame)\n",
    "\n",
    "\t# close the window on any keypress\n",
    "\tif cv2.waitKey(1) != -1:\n",
    "\t\tbreak\n",
    "\n",
    "cam.release()\n",
    "cv2.destroyAllWindows()\t"
   ]
  },
  {
   "cell_type": "code",
   "execution_count": null,
   "id": "215e1fb0",
   "metadata": {},
   "outputs": [],
   "source": []
  },
  {
   "cell_type": "code",
   "execution_count": null,
   "id": "61e46f4f",
   "metadata": {},
   "outputs": [],
   "source": []
  }
 ],
 "metadata": {
  "kernelspec": {
   "display_name": "Python 3",
   "language": "python",
   "name": "python3"
  },
  "language_info": {
   "codemirror_mode": {
    "name": "ipython",
    "version": 3
   },
   "file_extension": ".py",
   "mimetype": "text/x-python",
   "name": "python",
   "nbconvert_exporter": "python",
   "pygments_lexer": "ipython3",
   "version": "3.13.3"
  }
 },
 "nbformat": 4,
 "nbformat_minor": 5
}
