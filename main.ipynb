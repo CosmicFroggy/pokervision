{
 "cells": [
  {
   "cell_type": "code",
   "execution_count": 6,
   "id": "91f8777c",
   "metadata": {},
   "outputs": [],
   "source": [
    "import cv2\n",
    "import kagglehub"
   ]
  },
  {
   "cell_type": "code",
   "execution_count": 8,
   "id": "307e9507",
   "metadata": {},
   "outputs": [],
   "source": [
    "# download playing card dataset using kagglehub\n",
    "data_path = kagglehub.dataset_download(\"andy8744/playing-cards-object-detection-dataset\")"
   ]
  },
  {
   "cell_type": "code",
   "execution_count": 3,
   "id": "a19914aa",
   "metadata": {},
   "outputs": [],
   "source": [
    "# read a frame from the webcam to get image of cards\n",
    "cam = cv2.VideoCapture(0)\n",
    "_, frame = cam.read()\n",
    "cam.release()"
   ]
  },
  {
   "cell_type": "code",
   "execution_count": 4,
   "id": "a9f45f21",
   "metadata": {},
   "outputs": [],
   "source": [
    "# show the image\n",
    "cv2.imshow(\"pokervision\", frame)\n",
    "\n",
    "# close the window on any keypress\n",
    "if cv2.waitKey(0) != -1:\n",
    "\tcv2.destroyAllWindows()"
   ]
  },
  {
   "cell_type": "code",
   "execution_count": null,
   "id": "91e88039",
   "metadata": {},
   "outputs": [],
   "source": []
  }
 ],
 "metadata": {
  "kernelspec": {
   "display_name": "Python 3",
   "language": "python",
   "name": "python3"
  },
  "language_info": {
   "codemirror_mode": {
    "name": "ipython",
    "version": 3
   },
   "file_extension": ".py",
   "mimetype": "text/x-python",
   "name": "python",
   "nbconvert_exporter": "python",
   "pygments_lexer": "ipython3",
   "version": "3.13.3"
  }
 },
 "nbformat": 4,
 "nbformat_minor": 5
}
