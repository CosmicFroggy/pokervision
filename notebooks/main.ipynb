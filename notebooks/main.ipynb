{
 "cells": [
  {
   "cell_type": "code",
   "execution_count": 1,
   "id": "91f8777c",
   "metadata": {},
   "outputs": [
    {
     "name": "stderr",
     "output_type": "stream",
     "text": [
      "d:\\dev\\2025\\pokervision\\venv\\Lib\\site-packages\\tqdm\\auto.py:21: TqdmWarning: IProgress not found. Please update jupyter and ipywidgets. See https://ipywidgets.readthedocs.io/en/stable/user_install.html\n",
      "  from .autonotebook import tqdm as notebook_tqdm\n"
     ]
    }
   ],
   "source": [
    "import cv2\n",
    "import kagglehub\n",
    "from ultralytics import YOLO\n",
    "import os\n",
    "import yaml\n",
    "from sklearn.cluster import DBSCAN\n",
    "from PIL import Image, ImageTk"
   ]
  },
  {
   "cell_type": "code",
   "execution_count": 3,
   "id": "307e9507",
   "metadata": {},
   "outputs": [
    {
     "name": "stdout",
     "output_type": "stream",
     "text": [
      "C:\\Users\\Mark\\.cache\\kagglehub\\datasets\\andy8744\\playing-cards-object-detection-dataset\\versions\\4\n"
     ]
    },
    {
     "data": {
      "text/plain": [
       "['data.yaml',\n",
       " 'kaggle_data.yaml',\n",
       " 'README.roboflow.txt',\n",
       " 'test',\n",
       " 'train',\n",
       " 'valid']"
      ]
     },
     "execution_count": 3,
     "metadata": {},
     "output_type": "execute_result"
    }
   ],
   "source": [
    "# download playing card dataset using kagglehub\n",
    "data_path = kagglehub.dataset_download(\"andy8744/playing-cards-object-detection-dataset\")\n",
    "print(data_path)\n",
    "os.listdir(data_path)"
   ]
  },
  {
   "cell_type": "code",
   "execution_count": 4,
   "id": "82370f47",
   "metadata": {},
   "outputs": [
    {
     "name": "stdout",
     "output_type": "stream",
     "text": [
      "['10c', '10d', '10h', '10s', '2c', '2d', '2h', '2s', '3c', '3d', '3h', '3s', '4c', '4d', '4h', '4s', '5c', '5d', '5h', '5s', '6c', '6d', '6h', '6s', '7c', '7d', '7h', '7s', '8c', '8d', '8h', '8s', '9c', '9d', '9h', '9s', 'Ac', 'Ad', 'Ah', 'As', 'Jc', 'Jd', 'Jh', 'Js', 'Kc', 'Kd', 'Kh', 'Ks', 'Qc', 'Qd', 'Qh', 'Qs']\n"
     ]
    }
   ],
   "source": [
    "# get dataset labels\n",
    "with open(data_path + \"/data.yaml\", \"r\") as file:\n",
    "\tdata = yaml.safe_load(file)\n",
    "\n",
    "labels = data[\"names\"]\n",
    "print(labels)"
   ]
  },
  {
   "cell_type": "code",
   "execution_count": 5,
   "id": "a63d2fde",
   "metadata": {},
   "outputs": [],
   "source": [
    "# create model using previously trained weights\n",
    "model = YOLO(\"CardDetector.pt\")"
   ]
  },
  {
   "cell_type": "code",
   "execution_count": 6,
   "id": "ce3b7f75",
   "metadata": {},
   "outputs": [],
   "source": [
    "# class for storing card information, could make cards persistent between\n",
    "# frames later\n",
    "class CardPrediction:\n",
    "\tdef __init__(self, position, left, right, top, bottom, class_id, suit_rank, confidence):\n",
    "\t\tself.position = position\n",
    "\t\tself.left = left\n",
    "\t\tself.right = right\n",
    "\t\tself.top = top\n",
    "\t\tself.bottom = bottom\n",
    "\t\tself.class_id = class_id\n",
    "\t\tself.suit_rank = suit_rank\n",
    "\t\tself.confidence = confidence\n",
    "\t\tself.hand = -1\n",
    "\n",
    "\tdef draw(self, frame):\n",
    "\t\tcv2.rectangle(frame, \n",
    "\t\t\t\t \t  (self.left, self.top),\n",
    "\t\t\t\t\t  (self.right, self.bottom), \n",
    "\t\t\t\t\t  (0, 255, 0), \n",
    "\t\t\t\t\t  1)\n",
    "\t\tcv2.circle(frame,\n",
    "\t\t\t\t   self.position,\n",
    "\t\t\t\t   3,\n",
    "\t\t\t\t   (0, 255, 0),\n",
    "\t\t\t\t   -1)\n",
    "\t\tcv2.putText(frame, \n",
    "\t\t\t\t\tf\"{self.suit_rank}({self.hand}): {self.confidence:.2f}\", \n",
    "\t\t\t\t\t(self.left, self.top - 30), \n",
    "\t\t\t\t\tcv2.FONT_HERSHEY_SIMPLEX, \n",
    "\t\t\t\t\t0.5, \n",
    "\t\t\t\t\t(0, 255, 0), \n",
    "\t\t\t\t\t1, \n",
    "\t\t\t\t\tcv2.LINE_AA)"
   ]
  },
  {
   "cell_type": "code",
   "execution_count": 2,
   "id": "91e88039",
   "metadata": {},
   "outputs": [
    {
     "ename": "NameError",
     "evalue": "name 'model' is not defined",
     "output_type": "error",
     "traceback": [
      "\u001b[31m---------------------------------------------------------------------------\u001b[39m",
      "\u001b[31mNameError\u001b[39m                                 Traceback (most recent call last)",
      "\u001b[36mCell\u001b[39m\u001b[36m \u001b[39m\u001b[32mIn[2]\u001b[39m\u001b[32m, line 16\u001b[39m\n\u001b[32m     12\u001b[39m \u001b[38;5;66;03m# TODO: does the model expect rgb or bgr???\u001b[39;00m\n\u001b[32m     13\u001b[39m \n\u001b[32m     14\u001b[39m \u001b[38;5;66;03m# detect cards\u001b[39;00m\n\u001b[32m     15\u001b[39m cards = []\n\u001b[32m---> \u001b[39m\u001b[32m16\u001b[39m prediction = \u001b[38;5;28mnext\u001b[39m(\u001b[43mmodel\u001b[49m.track(frame, stream=\u001b[38;5;28;01mTrue\u001b[39;00m, verbose=\u001b[38;5;28;01mFalse\u001b[39;00m, persist=\u001b[38;5;28;01mTrue\u001b[39;00m))\n\u001b[32m     17\u001b[39m \u001b[38;5;28;01mif\u001b[39;00m prediction.boxes.id != \u001b[38;5;28;01mNone\u001b[39;00m:\n\u001b[32m     18\u001b[39m \t\u001b[38;5;28;01mfor\u001b[39;00m i, box_id \u001b[38;5;129;01min\u001b[39;00m \u001b[38;5;28menumerate\u001b[39m(prediction.boxes.id):\n\u001b[32m     19\u001b[39m \t\t\u001b[38;5;66;03m# get attributes of identified card\u001b[39;00m\n",
      "\u001b[31mNameError\u001b[39m: name 'model' is not defined"
     ]
    }
   ],
   "source": [
    "# analyse in real-time \n",
    "\n",
    "cam = cv2.VideoCapture(0)\n",
    "cam.set(cv2.CAP_PROP_AUTOFOCUS, 255)\n",
    "#cam.set(cv2.CAP_PROP_FOCUS, 100)\n",
    "cam.set(cv2.CAP_PROP_BRIGHTNESS, 100)\n",
    "\n",
    "while True:\n",
    "\t# get new frame\n",
    "\t_, frame = cam.read() \n",
    "\n",
    "\t# TODO: does the model expect rgb or bgr???\n",
    "\n",
    "\t# detect cards\n",
    "\tcards = []\n",
    "\tprediction = next(model.track(frame, stream=True, verbose=False, persist=True))\n",
    "\tif prediction.boxes.id != None:\n",
    "\t\tfor i, box_id in enumerate(prediction.boxes.id):\n",
    "\t\t\t# get attributes of identified card\n",
    "\t\t\tx1, y1, x2, y2 = prediction.boxes.xyxy[i]\n",
    "\t\t\tx1, y1, x2, y2 = int(x1), int(y1), int(x2), int(y2)\n",
    "\t\t\tcx, cy, _, _ = prediction.boxes.xywh[i]\n",
    "\t\t\tcx, cy = int(cx), int(cy)\n",
    "\t\t\tclass_id = int(prediction.boxes.cls[i])\n",
    "\t\t\tconf = prediction.boxes.conf[i]\n",
    "\n",
    "\t\t\t# create new prediction object and add to list\n",
    "\t\t\tcards.append(CardPrediction((cx, cy), x1, x2, y1, y2, class_id, labels[class_id], conf))\n",
    "\n",
    "\t\t# using DBSCAN clustering algo to group card hands\n",
    "\t\tpositions = []\n",
    "\t\tfor card in cards:\n",
    "\t\t\tpositions.append(card.position)\n",
    "\t\thand_labels = DBSCAN(eps=100, min_samples=2).fit(positions).labels_\n",
    "\t\tfor i, label in enumerate(hand_labels):\n",
    "\t\t\tcards[i].hand = label\n",
    "\n",
    "\t\t# draw the card annotations\n",
    "\t\tfor card in cards:\n",
    "\t\t\tcard.draw(frame)\n",
    "\n",
    "\t\t# draw hand clustering\n",
    "\t\tfor i, card1 in enumerate(cards):\n",
    "\t\t\tif i == len(cards) - 1:\n",
    "\t\t\t\tbreak\n",
    "\t\t\tfor card2 in cards[i+1:]:\n",
    "\t\t\t\tif card1.hand != -1 and card1.hand == card2.hand:\n",
    "\t\t\t\t\tcv2.line(frame, \n",
    "\t\t\t  \t\t\t\t card1.position, \n",
    "\t\t\t\t\t\t\t card2.position, \n",
    "\t\t\t\t\t\t\t (0, 255, 0), \n",
    "\t\t\t\t\t\t\t 2)\n",
    "\n",
    "\t# show the image\n",
    "\tcv2.imshow(\"pokervision\", frame)\n",
    "\n",
    "\t# close the window on any keypress\n",
    "\tif cv2.waitKey(1) != -1:\n",
    "\t\tbreak\n",
    "\n",
    "cam.release()\n",
    "cv2.destroyAllWindows()\t"
   ]
  },
  {
   "cell_type": "code",
   "execution_count": 4,
   "id": "4b5da3e4",
   "metadata": {},
   "outputs": [
    {
     "data": {
      "image/jpeg": "[encoded data removed]",
      "image/png": "[encoded data removed]",
      "text/plain": [
       "<PIL.Image.Image image mode=RGB size=88x124>"
      ]
     },
     "execution_count": 4,
     "metadata": {},
     "output_type": "execute_result"
    }
   ],
   "source": [
    "Image.open(\"../res/SBS - 2D Poker Pack/Top-Down/Cards/Card_Back-88x124.png\").crop((0, 0, 88, 124))"
   ]
  },
  {
   "cell_type": "code",
   "execution_count": 13,
   "id": "1581a1b7",
   "metadata": {},
   "outputs": [
    {
     "name": "stdout",
     "output_type": "stream",
     "text": [
      "1\n",
      "2\n",
      "3\n",
      "4\n",
      "5\n",
      "6\n",
      "[1, 2, 4, 6]\n"
     ]
    }
   ],
   "source": [
    "myList = [1, 2, 3, 4, 5, 6]\n",
    "to_delete = []\n",
    "for i, val in enumerate(myList):\n",
    "\tprint(val)\n",
    "\tif val == 3 or val == 5:\n",
    "\t\tto_delete.append(i)\n",
    "\n",
    "to_delete.reverse()\n",
    "for i in to_delete:\n",
    "\tdel myList[i]\n",
    "\n",
    "print(myList)"
   ]
  },
  {
   "cell_type": "code",
   "execution_count": null,
   "id": "8cf6b7cc",
   "metadata": {},
   "outputs": [],
   "source": []
  }
 ],
 "metadata": {
  "kernelspec": {
   "display_name": "venv",
   "language": "python",
   "name": "python3"
  },
  "language_info": {
   "codemirror_mode": {
    "name": "ipython",
    "version": 3
   },
   "file_extension": ".py",
   "mimetype": "text/x-python",
   "name": "python",
   "nbconvert_exporter": "python",
   "pygments_lexer": "ipython3",
   "version": "3.13.3"
  }
 },
 "nbformat": 4,
 "nbformat_minor": 5
}
